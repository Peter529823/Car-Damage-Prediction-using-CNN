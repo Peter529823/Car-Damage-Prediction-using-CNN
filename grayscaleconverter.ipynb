{
 "cells": [
  {
   "cell_type": "code",
   "execution_count": null,
   "id": "4acdd533-1210-41f8-9c81-a10472874e70",
   "metadata": {},
   "outputs": [],
   "source": [
    "#installation for the cv2 library\n",
    "pip install opencv-python"
   ]
  },
  {
   "cell_type": "code",
   "execution_count": 15,
   "id": "536205fd-208f-4b05-9bf5-7e6db5a089ac",
   "metadata": {
    "scrolled": true
   },
   "outputs": [],
   "source": [
    "import os\n",
    "import cv2\n",
    "\n",
    "#converter functionality\n",
    "def convert_images(input_folder, output_folder):\n",
    "    for filename in os.listdir(input_folder):\n",
    "        image_path = os.path.join(input_folder, filename)\n",
    "        image = cv2.imread(image_path)\n",
    "\n",
    "        #when all of the images are loaded\n",
    "        if image is None:\n",
    "            continue\n",
    "\n",
    "        #converts each image to grayscale and adds to output folder\n",
    "        grayscale = cv2.cvtColor(image, cv2.COLOR_BGR2GRAY)\n",
    "        grayscale_path = os.path.join(output_folder, filename)\n",
    "        cv2.imwrite(grayscale_path, grayscale)\n",
    "\n",
    "# I couldn't figure out nested folders so folders must be converted one at a time for training and validation\n",
    "# the image path should follow the same format as below to the location on your PC\n",
    "input_folder = 'C:/Users/Owner/Desktop/Jupyter/validation-original/01-minor'\n",
    "output_folder = 'C:/Users/Owner/Desktop/Jupyter/validation-original-grayscale/01-minor'\n",
    "convert_images(input_folder, output_folder)"
   ]
  },
  {
   "cell_type": "code",
   "execution_count": null,
   "id": "54bb1fc9-c053-4d5a-96f5-c9e189b6da56",
   "metadata": {},
   "outputs": [],
   "source": []
  }
 ],
 "metadata": {
  "kernelspec": {
   "display_name": "Python 3 (ipykernel)",
   "language": "python",
   "name": "python3"
  },
  "language_info": {
   "codemirror_mode": {
    "name": "ipython",
    "version": 3
   },
   "file_extension": ".py",
   "mimetype": "text/x-python",
   "name": "python",
   "nbconvert_exporter": "python",
   "pygments_lexer": "ipython3",
   "version": "3.12.4"
  }
 },
 "nbformat": 4,
 "nbformat_minor": 5
}
