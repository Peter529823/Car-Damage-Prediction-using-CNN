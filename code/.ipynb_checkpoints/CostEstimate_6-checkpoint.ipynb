{
 "cells": [
  {
   "cell_type": "code",
   "execution_count": 56,
   "id": "299f02c1",
   "metadata": {},
   "outputs": [],
   "source": [
    "import os\n",
    "import tensorflow as tf\n",
    "from tensorflow.keras.applications import resnet50\n",
    "from tensorflow.keras.preprocessing.image import ImageDataGenerator\n",
    "from tensorflow.keras.models import Sequential\n",
    "from tensorflow.keras.layers import Conv2D, MaxPooling2D, Flatten, Dense, Dropout\n",
    "from tensorflow.keras.preprocessing.image import ImageDataGenerator"
   ]
  },
  {
   "cell_type": "code",
   "execution_count": 57,
   "id": "8d4f1039-8397-474f-98fe-990d68e8588c",
   "metadata": {},
   "outputs": [],
   "source": [
    "train_dir = r'C:\\Users\\Steven\\CIS579-Project\\Test\\training'\n",
    "val_dir = r'C:\\Users\\Steven\\CIS579-Project\\Test\\validation'"
   ]
  },
  {
   "cell_type": "code",
   "execution_count": 58,
   "id": "7250211a-7882-4e16-b325-2b6897267874",
   "metadata": {},
   "outputs": [],
   "source": [
    "img_width, img_height = 150, 150"
   ]
  },
  {
   "cell_type": "code",
   "execution_count": 59,
   "id": "d57da4e6-8543-428d-9996-1553267b4e21",
   "metadata": {},
   "outputs": [],
   "source": [
    "epochs = 2\n",
    "batch_size=32"
   ]
  },
  {
   "cell_type": "code",
   "execution_count": 60,
   "id": "2ee9003d-cb8b-41e0-bf65-f7cbc0426c3c",
   "metadata": {},
   "outputs": [],
   "source": [
    "train_datagen = ImageDataGenerator(\n",
    "    rescale=1./255,\n",
    "    rotation_range=20,\n",
    "    width_shift_range=0.2,\n",
    "    height_shift_range=0.2,\n",
    "    shear_range=0.2,\n",
    "    zoom_range=0.1,\n",
    "    horizontal_flip=True,\n",
    "    vertical_flip=True\n",
    ")\n",
    "\n",
    "val_datagen = ImageDataGenerator(rescale=1./255)"
   ]
  },
  {
   "cell_type": "code",
   "execution_count": 61,
   "id": "98faa6ed-47cc-47ae-92a8-fa27888dc050",
   "metadata": {},
   "outputs": [
    {
     "name": "stdout",
     "output_type": "stream",
     "text": [
      "Found 1383 images belonging to 3 classes.\n",
      "Found 248 images belonging to 3 classes.\n"
     ]
    }
   ],
   "source": [
    "train_generator = train_datagen.flow_from_directory(\n",
    "    train_dir,\n",
    "    target_size=(img_width, img_height),\n",
    "    batch_size=batch_size,\n",
    "    class_mode='categorical'\n",
    ")\n",
    "\n",
    "val_generator = val_datagen.flow_from_directory(\n",
    "    val_dir,\n",
    "    target_size=(img_width, img_height),\n",
    "    batch_size=batch_size,\n",
    "    class_mode='categorical'\n",
    ")\n"
   ]
  },
  {
   "cell_type": "code",
   "execution_count": 62,
   "id": "338d4026-9d02-43b9-b39f-fda13cb46017",
   "metadata": {},
   "outputs": [],
   "source": [
    "from tensorflow.keras.layers import (\n",
    "    Dense, Dropout, Activation, Flatten,\n",
    "    Conv2D, MaxPooling2D\n",
    ")\n",
    "\n",
    "model = Sequential()\n",
    "model.add(Conv2D(32, (3, 3), activation='relu', input_shape=(img_width, img_height, 3)))\n",
    "model.add(MaxPooling2D((2, 2)))\n",
    "model.add(Conv2D(64, (3, 3), activation='relu'))\n",
    "model.add(MaxPooling2D((2, 2)))\n",
    "model.add(Conv2D(128, (3, 3), activation='relu'))\n",
    "model.add(MaxPooling2D((2, 2)))\n",
    "model.add(Flatten())\n",
    "model.add(Dense(128, activation='relu'))\n",
    "model.add(Dropout(0.5))\n",
    "# minor moderate and severe (3)\n",
    "model.add(Dense(12, activation='softmax')) #UPDATED FROM 3 TO 12"
   ]
  },
  {
   "cell_type": "code",
   "execution_count": 63,
   "id": "5a375f82-4a8a-4b45-a7ad-2514bd5bb147",
   "metadata": {},
   "outputs": [],
   "source": [
    "model.compile(optimizer='adam', loss='categorical_crossentropy', metrics=['accuracy'])"
   ]
  },
  {
   "cell_type": "code",
   "execution_count": 64,
   "id": "e3dcd273-657d-41aa-948f-b51ee7da2661",
   "metadata": {},
   "outputs": [
    {
     "name": "stdout",
     "output_type": "stream",
     "text": [
      "Epoch 1/2\n"
     ]
    },
    {
     "ename": "ValueError",
     "evalue": "Arguments `target` and `output` must have the same shape. Received: target.shape=(None, 3), output.shape=(None, 12)",
     "output_type": "error",
     "traceback": [
      "\u001b[1;31m---------------------------------------------------------------------------\u001b[0m",
      "\u001b[1;31mValueError\u001b[0m                                Traceback (most recent call last)",
      "Cell \u001b[1;32mIn[64], line 1\u001b[0m\n\u001b[1;32m----> 1\u001b[0m history \u001b[38;5;241m=\u001b[39m model\u001b[38;5;241m.\u001b[39mfit(train_generator, epochs\u001b[38;5;241m=\u001b[39m\u001b[38;5;241m2\u001b[39m, validation_data\u001b[38;5;241m=\u001b[39mval_generator)\n",
      "File \u001b[1;32m~\\anaconda3\\Lib\\site-packages\\keras\\src\\utils\\traceback_utils.py:122\u001b[0m, in \u001b[0;36mfilter_traceback.<locals>.error_handler\u001b[1;34m(*args, **kwargs)\u001b[0m\n\u001b[0;32m    119\u001b[0m     filtered_tb \u001b[38;5;241m=\u001b[39m _process_traceback_frames(e\u001b[38;5;241m.\u001b[39m__traceback__)\n\u001b[0;32m    120\u001b[0m     \u001b[38;5;66;03m# To get the full stack trace, call:\u001b[39;00m\n\u001b[0;32m    121\u001b[0m     \u001b[38;5;66;03m# `keras.config.disable_traceback_filtering()`\u001b[39;00m\n\u001b[1;32m--> 122\u001b[0m     \u001b[38;5;28;01mraise\u001b[39;00m e\u001b[38;5;241m.\u001b[39mwith_traceback(filtered_tb) \u001b[38;5;28;01mfrom\u001b[39;00m \u001b[38;5;28;01mNone\u001b[39;00m\n\u001b[0;32m    123\u001b[0m \u001b[38;5;28;01mfinally\u001b[39;00m:\n\u001b[0;32m    124\u001b[0m     \u001b[38;5;28;01mdel\u001b[39;00m filtered_tb\n",
      "File \u001b[1;32m~\\anaconda3\\Lib\\site-packages\\keras\\src\\backend\\tensorflow\\nn.py:587\u001b[0m, in \u001b[0;36mcategorical_crossentropy\u001b[1;34m(target, output, from_logits, axis)\u001b[0m\n\u001b[0;32m    585\u001b[0m \u001b[38;5;28;01mfor\u001b[39;00m e1, e2 \u001b[38;5;129;01min\u001b[39;00m \u001b[38;5;28mzip\u001b[39m(target\u001b[38;5;241m.\u001b[39mshape, output\u001b[38;5;241m.\u001b[39mshape):\n\u001b[0;32m    586\u001b[0m     \u001b[38;5;28;01mif\u001b[39;00m e1 \u001b[38;5;129;01mis\u001b[39;00m \u001b[38;5;129;01mnot\u001b[39;00m \u001b[38;5;28;01mNone\u001b[39;00m \u001b[38;5;129;01mand\u001b[39;00m e2 \u001b[38;5;129;01mis\u001b[39;00m \u001b[38;5;129;01mnot\u001b[39;00m \u001b[38;5;28;01mNone\u001b[39;00m \u001b[38;5;129;01mand\u001b[39;00m e1 \u001b[38;5;241m!=\u001b[39m e2:\n\u001b[1;32m--> 587\u001b[0m         \u001b[38;5;28;01mraise\u001b[39;00m \u001b[38;5;167;01mValueError\u001b[39;00m(\n\u001b[0;32m    588\u001b[0m             \u001b[38;5;124m\"\u001b[39m\u001b[38;5;124mArguments `target` and `output` must have the same shape. \u001b[39m\u001b[38;5;124m\"\u001b[39m\n\u001b[0;32m    589\u001b[0m             \u001b[38;5;124m\"\u001b[39m\u001b[38;5;124mReceived: \u001b[39m\u001b[38;5;124m\"\u001b[39m\n\u001b[0;32m    590\u001b[0m             \u001b[38;5;124mf\u001b[39m\u001b[38;5;124m\"\u001b[39m\u001b[38;5;124mtarget.shape=\u001b[39m\u001b[38;5;132;01m{\u001b[39;00mtarget\u001b[38;5;241m.\u001b[39mshape\u001b[38;5;132;01m}\u001b[39;00m\u001b[38;5;124m, output.shape=\u001b[39m\u001b[38;5;132;01m{\u001b[39;00moutput\u001b[38;5;241m.\u001b[39mshape\u001b[38;5;132;01m}\u001b[39;00m\u001b[38;5;124m\"\u001b[39m\n\u001b[0;32m    591\u001b[0m         )\n\u001b[0;32m    593\u001b[0m output, from_logits \u001b[38;5;241m=\u001b[39m _get_logits(\n\u001b[0;32m    594\u001b[0m     output, from_logits, \u001b[38;5;124m\"\u001b[39m\u001b[38;5;124mSoftmax\u001b[39m\u001b[38;5;124m\"\u001b[39m, \u001b[38;5;124m\"\u001b[39m\u001b[38;5;124mcategorical_crossentropy\u001b[39m\u001b[38;5;124m\"\u001b[39m\n\u001b[0;32m    595\u001b[0m )\n\u001b[0;32m    596\u001b[0m \u001b[38;5;28;01mif\u001b[39;00m from_logits:\n",
      "\u001b[1;31mValueError\u001b[0m: Arguments `target` and `output` must have the same shape. Received: target.shape=(None, 3), output.shape=(None, 12)"
     ]
    }
   ],
   "source": [
    "history = model.fit(train_generator, epochs=2, validation_data=val_generator)"
   ]
  },
  {
   "cell_type": "code",
   "execution_count": null,
   "id": "db4c33ff-fa30-4f08-996b-1ea6f2feca8f",
   "metadata": {},
   "outputs": [],
   "source": [
    "import matplotlib.pyplot as plt\n",
    "# loss\n",
    "plt.plot(history.history['loss'], label='Training Loss')\n",
    "plt.plot(history.history['val_loss'], label='Validation Loss')\n",
    "plt.xlabel('Epochs')\n",
    "plt.ylabel('Loss')\n",
    "plt.legend()\n",
    "plt.show()\n",
    "\n",
    "# accuracy\n",
    "plt.plot(history.history['accuracy'], label='Training Accuracy')\n",
    "plt.plot(history.history['val_accuracy'], label='Validation Accuracy')\n",
    "plt.xlabel('Epochs')\n",
    "plt.ylabel('Accuracy')\n",
    "plt.legend()\n",
    "plt.show()\n",
    "from sklearn.metrics import f1_score\n",
    "# # f1 score\n",
    "# plt.plot(history.history['f1_score'], label='Training F1 Score')\n",
    "# plt.plot(history.history['val_f1_score'], label='Validation F1 Score')\n",
    "# plt.xlabel('Epochs')\n",
    "# plt.ylabel('F1 Score')\n",
    "# plt.legend()\n",
    "# plt.show()\n"
   ]
  },
  {
   "cell_type": "code",
   "execution_count": null,
   "id": "5f676547-846f-463d-ad6f-1dd24910c453",
   "metadata": {},
   "outputs": [],
   "source": [
    "import numpy as np\n",
    "val_images, val_labels = [], []\n",
    "class_names = sorted(train_generator.class_indices.keys())\n",
    "for i in range(len(val_generator)):\n",
    "    images, labels = val_generator[i]\n",
    "    val_images.extend(images)\n",
    "    val_labels.extend(np.argmax(labels, axis=1))\n",
    "\n",
    "\n",
    "val_images = np.array(val_images)\n",
    "val_labels = np.array(val_labels)\n",
    "\n",
    "predictions = model.predict(val_images)\n",
    "\n",
    "\n",
    "from sklearn.metrics import confusion_matrix, classification_report\n",
    "\n",
    "y_pred = np.argmax(predictions, axis=1)\n",
    "y_true = val_labels\n",
    "\n",
    "confusion_matrix = confusion_matrix(y_true, y_pred)\n",
    "fig, ax = plt.subplots()\n",
    "cax = ax.matshow(confusion_matrix, cmap='Reds')\n",
    "\n",
    "cbar = fig.colorbar(cax)\n",
    "\n",
    "ax.set_xticklabels([''] + class_names, rotation=45) #CHANGED TO SAY CLASS_NAMES\n",
    "ax.set_yticklabels([''] + class_names) #cHANGED TO SAY CLASS NAMES\n",
    "\n",
    "for i in range(confusion_matrix.shape[0]):\n",
    "    for j in range(confusion_matrix.shape[1]):\n",
    "        ax.text(j, i, str(confusion_matrix[i, j]), ha='center', va='center')\n",
    "print('Confusion Matrix:')\n",
    "\n",
    "plt.show()\n",
    "\n",
    "\n",
    "\n",
    "report = classification_report(y_true, y_pred, target_names=class_names)\n",
    "print('Classification Report:')\n",
    "print(report)\n"
   ]
  },
  {
   "cell_type": "code",
   "execution_count": null,
   "id": "d4851175-b394-4fa6-989e-45ebf301de15",
   "metadata": {},
   "outputs": [],
   "source": [
    "model.save('damage_classification_model.keras')"
   ]
  },
  {
   "cell_type": "code",
   "execution_count": null,
   "id": "c62b05d8-cc0b-40bb-abde-48a54e16f93a",
   "metadata": {},
   "outputs": [],
   "source": [
    "#ADDED COST MAPPING FOR NEW FOLDERS\n",
    "cost_map = {\n",
    "    \"Minor-1\": 50, \"Minor-2\": 100, \"Minor-3\": 150, \"Minor-4\": 200,\n",
    "    \"Moderate-1\": 300, \"Moderate-2\": 350, \"Moderate-3\": 400, \"Moderate-4\": 450,\n",
    "    \"Severe-1\": 550, \"Severe-2\": 600, \"Severe-3\": 650, \"Severe-4\": 700\n",
    "}"
   ]
  },
  {
   "cell_type": "code",
   "execution_count": null,
   "id": "5a48093c-e890-4bc5-841a-5d78b9cf4dd6",
   "metadata": {},
   "outputs": [],
   "source": [
    "image_paths = []\n",
    "for class_name in class_names:\n",
    "    folder_path = os.path.join(val_dir, class_name)\n",
    "    for filename in os.listdir(folder_path):\n",
    "        if filename.endswith(\".jpg\") or filename.endswith(\".png\"):\n",
    "            image_paths.append(os.path.join(folder_path, filename))\n",
    "negative = 0\n",
    "positive = 0\n",
    "for image_path in image_paths:\n",
    "    img = tf.keras.preprocessing.image.load_img(image_path)\n",
    "    img = img.resize((img_width, img_height))\n",
    "    img = tf.keras.preprocessing.image.img_to_array(img)\n",
    "    img = img / 255.0\n",
    "    img = tf.expand_dims(img, axis=0)\n",
    "    pred = model.predict(img)\n",
    "    pred_label = class_names[np.argmax(pred)]\n",
    "    folder_name = os.path.basename(os.path.dirname(image_path))\n",
    " \n",
    "    predicted_cost = cost_map[pred_label]  #COST PREDICTION\n",
    "    actual_cost = cost_map[folder_name]  #COST FROM MAPPING\n",
    "\n",
    "    plt.imshow(img[0])\n",
    "    #UPDATED BELOW\n",
    "    if pred_label != folder_name:\n",
    "        plt.title(f'Pred: {pred_label} (${predicted_cost})\\nActl: {folder_name} (${actual_cost})', color='red')\n",
    "        negative += 1\n",
    "    else:\n",
    "        plt.title(f'Pred: {pred_label} (${predicted_cost})\\nActl: {folder_name} (${actual_cost})', color='green')\n",
    "        positive += 1\n",
    "\n",
    "    plt.axis('off')\n",
    "    plt.show() \n",
    "print('False: '+ str(negative) + '\\nTrue: ' + str(positive))"
   ]
  },
  {
   "cell_type": "code",
   "execution_count": null,
   "id": "07becf24-7c36-4e03-9d92-a77b867c6e2a",
   "metadata": {},
   "outputs": [],
   "source": []
  }
 ],
 "metadata": {
  "kernelspec": {
   "display_name": "Python 3 (ipykernel)",
   "language": "python",
   "name": "python3"
  },
  "language_info": {
   "codemirror_mode": {
    "name": "ipython",
    "version": 3
   },
   "file_extension": ".py",
   "mimetype": "text/x-python",
   "name": "python",
   "nbconvert_exporter": "python",
   "pygments_lexer": "ipython3",
   "version": "3.12.4"
  }
 },
 "nbformat": 4,
 "nbformat_minor": 5
}
