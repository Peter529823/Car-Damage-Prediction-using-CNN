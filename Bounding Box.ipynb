{
 "cells": [
  {
   "cell_type": "code",
   "execution_count": 39,
   "id": "49b58d13-95c7-47e7-bdcb-79533b0ece72",
   "metadata": {},
   "outputs": [
    {
     "name": "stdout",
     "output_type": "stream",
     "text": [
      "Requirement already satisfied: opencv-python in c:\\users\\peter\\anaconda3\\lib\\site-packages (4.10.0.84)\n",
      "Requirement already satisfied: numpy>=1.21.2 in c:\\users\\peter\\anaconda3\\lib\\site-packages (from opencv-python) (1.26.4)\n",
      "Note: you may need to restart the kernel to use updated packages.\n"
     ]
    }
   ],
   "source": [
    "pip install opencv-python"
   ]
  },
  {
   "cell_type": "markdown",
   "id": "e44501de-d2cb-40b4-b0fd-b0f4dc88d8ef",
   "metadata": {},
   "source": [
    "#Install OpenCV - open-source computer vision and ML library used for manipulating images and applying filters. It works well for obect detection and various other image processing tasks. "
   ]
  },
  {
   "cell_type": "code",
   "execution_count": 37,
   "id": "6f2eb62c-4c0e-4dd8-ac17-5be79918225c",
   "metadata": {},
   "outputs": [],
   "source": [
    "import os\n",
    "#OS module provides functions for working with files and directories and allows access to the operating system. "
   ]
  },
  {
   "cell_type": "code",
   "execution_count": 25,
   "id": "e5563205-1fc4-4649-902a-55a329e8bc71",
   "metadata": {},
   "outputs": [],
   "source": [
    "import cv2\n",
    "import glob\n",
    "for img in glob.glob(r\"C:\\Users\\peter\\Training/*.png\"):\n",
    "    cv_img = cv2.imread(img)\n",
    "#CV2 is a module used to access OpenCV for objection detection and feature detection. \n",
    "#glob reads images within the folders in the directory. Imread is to read the images in the training folers. "
   ]
  },
  {
   "cell_type": "code",
   "execution_count": 36,
   "id": "b3b3ad8a-f06c-4d20-a7f4-09572006e8d6",
   "metadata": {},
   "outputs": [],
   "source": [
    "import cv2\n",
    "import glob\n",
    "for img in glob.glob(r\"C:\\Users\\peter\\Validation/*.png\"):\n",
    "    cv_img = cv2.imread(img)\n",
    "#CV2 is a module used to access OpenCV for objection detection and feature detection. \n",
    "#glob reads images within the folders in the directory. Imread is to read the images in the training folers. "
   ]
  },
  {
   "cell_type": "code",
   "execution_count": 27,
   "id": "c7e47423-bfc1-45c6-b1a2-1c065487d7cf",
   "metadata": {},
   "outputs": [],
   "source": [
    "#Next I need to detect the car images"
   ]
  },
  {
   "cell_type": "code",
   "execution_count": 32,
   "id": "a812b348-2043-49c9-ab35-d69daa9f325b",
   "metadata": {},
   "outputs": [],
   "source": [
    "#draw bounding boxes. "
   ]
  },
  {
   "cell_type": "code",
   "execution_count": 33,
   "id": "945414eb-b231-4a31-8556-6a7da1378834",
   "metadata": {},
   "outputs": [],
   "source": [
    "#Display images"
   ]
  },
  {
   "cell_type": "code",
   "execution_count": null,
   "id": "f2c784aa-7914-40ca-95b0-6c638e7c4cca",
   "metadata": {},
   "outputs": [],
   "source": []
  }
 ],
 "metadata": {
  "kernelspec": {
   "display_name": "Python 3 (ipykernel)",
   "language": "python",
   "name": "python3"
  },
  "language_info": {
   "codemirror_mode": {
    "name": "ipython",
    "version": 3
   },
   "file_extension": ".py",
   "mimetype": "text/x-python",
   "name": "python",
   "nbconvert_exporter": "python",
   "pygments_lexer": "ipython3",
   "version": "3.12.4"
  }
 },
 "nbformat": 4,
 "nbformat_minor": 5
}
